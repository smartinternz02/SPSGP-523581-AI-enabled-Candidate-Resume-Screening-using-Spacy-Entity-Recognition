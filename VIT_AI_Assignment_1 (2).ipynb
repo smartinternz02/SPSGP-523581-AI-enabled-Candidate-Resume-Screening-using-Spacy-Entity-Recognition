{
  "nbformat": 4,
  "nbformat_minor": 0,
  "metadata": {
    "colab": {
      "provenance": []
    },
    "kernelspec": {
      "name": "python3",
      "display_name": "Python 3"
    },
    "language_info": {
      "name": "python"
    }
  },
  "cells": [
    {
      "cell_type": "code",
      "execution_count": 1,
      "metadata": {
        "id": "81A147l5XpXw"
      },
      "outputs": [],
      "source": [
        "#20BKT0019\n",
        "#BARATH KUMAR S\n",
        "# barathkumar.s2020a@vitstudent.ac.in\n",
        "# MOBILE NUMBER: 8072709703"
      ]
    },
    {
      "cell_type": "code",
      "source": [
        "import numpy as np\n",
        "import pandas as pd"
      ],
      "metadata": {
        "id": "cGL66-6jZMbT"
      },
      "execution_count": 2,
      "outputs": []
    },
    {
      "cell_type": "code",
      "source": [
        "# TASK 1\n",
        "# Create a pandas dataframe (DataFrame name as 'df') with numpy random values (4 features and 4 observation)\n",
        "\n",
        "rand_val_1=pd.Series(np.random.randint(200,size=(4)))\n",
        "rand_val_2=pd.Series(np.random.randint(100,size=(4)))\n",
        "rand_val_3=pd.Series(np.random.rand(4))\n",
        "rand_val_4=pd.Series(np.random.randint(25,size=(4)))\n",
        "df=pd.DataFrame([rand_val_1,rand_val_2,rand_val_3,rand_val_4])\n",
        "print(\"Before Transpose\\n\",df)\n",
        "df=df.T\n",
        "print(\"DataFrame\\n\",df)"
      ],
      "metadata": {
        "colab": {
          "base_uri": "https://localhost:8080/"
        },
        "id": "zL6QW3DwYQkQ",
        "outputId": "7ae2c681-6d18-40e9-a6d3-27356fb8bd22"
      },
      "execution_count": 3,
      "outputs": [
        {
          "output_type": "stream",
          "name": "stdout",
          "text": [
            "Before Transpose\n",
            "             0           1           2          3\n",
            "0  136.000000  140.000000  164.000000  17.000000\n",
            "1   99.000000   92.000000   40.000000  65.000000\n",
            "2    0.277028    0.087502    0.090251   0.707892\n",
            "3   22.000000   21.000000   17.000000   6.000000\n",
            "DataFrame\n",
            "        0     1         2     3\n",
            "0  136.0  99.0  0.277028  22.0\n",
            "1  140.0  92.0  0.087502  21.0\n",
            "2  164.0  40.0  0.090251  17.0\n",
            "3   17.0  65.0  0.707892   6.0\n"
          ]
        }
      ]
    },
    {
      "cell_type": "code",
      "source": [
        "#TASK 2\n",
        "#Rename the task - 1 'df' dataframe column names to 'Random value 1', 'Random value 2', 'Random value 3' & 'Random value 4'\n",
        "print(\"The column names of the data frame before change:\",df.columns)\n",
        "\n",
        "df.columns=['Random value 1','Random value 2','Random value 3','Random value 4']\n",
        "print(\"The dataframe after the change of the column names with random values:\\n\",df)\n"
      ],
      "metadata": {
        "colab": {
          "base_uri": "https://localhost:8080/"
        },
        "id": "gdqXZF_CcZSG",
        "outputId": "53c42cbd-53da-4aed-d9d9-82895b051d6f"
      },
      "execution_count": 4,
      "outputs": [
        {
          "output_type": "stream",
          "name": "stdout",
          "text": [
            "The column names of the data frame before change: RangeIndex(start=0, stop=4, step=1)\n",
            "The dataframe after the change of the column names with random values:\n",
            "    Random value 1  Random value 2  Random value 3  Random value 4\n",
            "0           136.0            99.0        0.277028            22.0\n",
            "1           140.0            92.0        0.087502            21.0\n",
            "2           164.0            40.0        0.090251            17.0\n",
            "3            17.0            65.0        0.707892             6.0\n"
          ]
        }
      ]
    },
    {
      "cell_type": "code",
      "source": [
        "#TASK 3\n",
        "#Find the descriptive statistics of the 'df' dataframe.\n",
        "\n",
        "print(\"Descriptive statistics of the dataframe:\\n\",df.describe())"
      ],
      "metadata": {
        "colab": {
          "base_uri": "https://localhost:8080/"
        },
        "id": "OF_-T26helxl",
        "outputId": "1c74ad40-abc8-464e-c3e2-6a0c96b845e2"
      },
      "execution_count": 5,
      "outputs": [
        {
          "output_type": "stream",
          "name": "stdout",
          "text": [
            "Descriptive statistics of the dataframe:\n",
            "        Random value 1  Random value 2  Random value 3  Random value 4\n",
            "count        4.000000        4.000000        4.000000        4.000000\n",
            "mean       114.250000       74.000000        0.290668       16.500000\n",
            "std         66.001894       26.993826        0.291950        7.325754\n",
            "min         17.000000       40.000000        0.087502        6.000000\n",
            "25%        106.250000       58.750000        0.089564       14.250000\n",
            "50%        138.000000       78.500000        0.183639       19.000000\n",
            "75%        146.000000       93.750000        0.384744       21.250000\n",
            "max        164.000000       99.000000        0.707892       22.000000\n"
          ]
        }
      ]
    },
    {
      "cell_type": "code",
      "source": [
        "#TASK 4\n",
        "#Check for the null values in 'df' and \n",
        "print(\"Any null values?:\\n\",df.isnull())\n",
        "print(\"sum of null values?:\\n\",df.isnull().sum())"
      ],
      "metadata": {
        "colab": {
          "base_uri": "https://localhost:8080/"
        },
        "id": "GSiHuHQEfYFp",
        "outputId": "c90a529a-a1a7-41fa-de87-781e4f62a1ab"
      },
      "execution_count": 6,
      "outputs": [
        {
          "output_type": "stream",
          "name": "stdout",
          "text": [
            "Any null values?:\n",
            "    Random value 1  Random value 2  Random value 3  Random value 4\n",
            "0           False           False           False           False\n",
            "1           False           False           False           False\n",
            "2           False           False           False           False\n",
            "3           False           False           False           False\n",
            "sum of null values?:\n",
            " Random value 1    0\n",
            "Random value 2    0\n",
            "Random value 3    0\n",
            "Random value 4    0\n",
            "dtype: int64\n"
          ]
        }
      ]
    },
    {
      "cell_type": "code",
      "source": [
        "#TASK 4\n",
        "#find the data type of the columns.\n",
        "for i in df.columns:\n",
        "  print(\"The column name\",i,\"--->\",df[i].dtype)\n",
        "#or\n",
        "\n",
        "print(df.info())\n"
      ],
      "metadata": {
        "colab": {
          "base_uri": "https://localhost:8080/"
        },
        "id": "-1OAKXrPf4-9",
        "outputId": "f3efe72c-5ed2-4020-93d3-e25c86ba3302"
      },
      "execution_count": 7,
      "outputs": [
        {
          "output_type": "stream",
          "name": "stdout",
          "text": [
            "The column name Random value 1 ---> float64\n",
            "The column name Random value 2 ---> float64\n",
            "The column name Random value 3 ---> float64\n",
            "The column name Random value 4 ---> float64\n",
            "<class 'pandas.core.frame.DataFrame'>\n",
            "RangeIndex: 4 entries, 0 to 3\n",
            "Data columns (total 4 columns):\n",
            " #   Column          Non-Null Count  Dtype  \n",
            "---  ------          --------------  -----  \n",
            " 0   Random value 1  4 non-null      float64\n",
            " 1   Random value 2  4 non-null      float64\n",
            " 2   Random value 3  4 non-null      float64\n",
            " 3   Random value 4  4 non-null      float64\n",
            "dtypes: float64(4)\n",
            "memory usage: 256.0 bytes\n",
            "None\n"
          ]
        }
      ]
    },
    {
      "cell_type": "code",
      "source": [
        "#TASK 5\n",
        "#Display the 'Random value 2' & 'Random value 3' columns with location method and index location method\n",
        "print(\"using loc method:\\n\",df.loc[:,'Random value 2':'Random value 3'])"
      ],
      "metadata": {
        "colab": {
          "base_uri": "https://localhost:8080/"
        },
        "id": "kIJMjcdQj8q3",
        "outputId": "e12c6644-202d-4f3a-9c85-e068d53401b8"
      },
      "execution_count": 9,
      "outputs": [
        {
          "output_type": "stream",
          "name": "stdout",
          "text": [
            "using loc method:\n",
            "    Random value 2  Random value 3\n",
            "0            99.0        0.277028\n",
            "1            92.0        0.087502\n",
            "2            40.0        0.090251\n",
            "3            65.0        0.707892\n"
          ]
        }
      ]
    },
    {
      "cell_type": "code",
      "source": [
        "print(\"using iloc method:\\n\",df.iloc[:,1:3])"
      ],
      "metadata": {
        "colab": {
          "base_uri": "https://localhost:8080/"
        },
        "id": "k9-bO8bwkzyn",
        "outputId": "caf6738f-1bc6-43a3-e290-2b8e3f60732e"
      },
      "execution_count": 10,
      "outputs": [
        {
          "output_type": "stream",
          "name": "stdout",
          "text": [
            "using iloc method:\n",
            "    Random value 2  Random value 3\n",
            "0            99.0        0.277028\n",
            "1            92.0        0.087502\n",
            "2            40.0        0.090251\n",
            "3            65.0        0.707892\n"
          ]
        }
      ]
    }
  ]
}